{
  "cells": [
    {
      "cell_type": "code",
      "source": [
        "#Import necessary libraries\n",
        "from torch import nn\n",
        "import numpy as np\n",
        "import torch\n",
        "import torch.nn.functional as F\n",
        "import matplotlib.pyplot as plt\n",
        "from torchvision import datasets, transforms\n",
        "from  torch import optim \n",
        "from torchvision import transforms, utils, models\n",
        "\n",
        "from collections import OrderedDict\n",
        "device = torch.device('cuda:0' if torch.cuda.is_available() else 'cpu')"
      ],
      "metadata": {
        "id": "qunSU9rMztPQ"
      },
      "execution_count": 1,
      "outputs": []
    },
    {
      "cell_type": "code",
      "source": [
        "import torchvision\n",
        "import torchvision.datasets as datasets\n",
        "import torchvision.models as models\n",
        "import torchvision.transforms as transforms\n"
      ],
      "metadata": {
        "id": "8Vwl8GUzzCB1"
      },
      "execution_count": 27,
      "outputs": []
    },
    {
      "cell_type": "code",
      "source": [
        "from google.colab import drive\n",
        "drive.mount('/content/drive')\n",
        "\n"
      ],
      "metadata": {
        "id": "ZQc31MEnztcx",
        "outputId": "28132ff7-e5f7-4259-a4dc-94887c72cc68",
        "colab": {
          "base_uri": "https://localhost:8080/"
        }
      },
      "execution_count": 2,
      "outputs": [
        {
          "output_type": "stream",
          "name": "stdout",
          "text": [
            "Mounted at /content/drive\n"
          ]
        }
      ]
    },
    {
      "cell_type": "code",
      "source": [
        "\n",
        "data_dir = '/content/drive/My Drive/breast canser/'\n",
        "\n",
        "train_transforms = transforms.Compose([transforms.RandomRotation(30),\n",
        "                                transforms.RandomHorizontalFlip(),\n",
        "                                transforms.Resize((280,280)),\n",
        "                                transforms.ToTensor(),\n",
        "                                transforms.Normalize([0.5, 0.5, 0.5],\n",
        "                                [0.5, 0.5, 0.5])])\n",
        "test_transforms = transforms.Compose([\n",
        "                                transforms.Resize((280,280)),\n",
        "                                transforms.ToTensor(),\n",
        "                                transforms.Normalize([0.5, 0.5, 0.5],\n",
        "                                [0.5, 0.5, 0.5])])\n",
        "\n",
        "train_data = datasets.ImageFolder(data_dir + 'train', transform=train_transforms)\n",
        "test_data = datasets.ImageFolder(data_dir + 'test', transform=test_transforms)"
      ],
      "metadata": {
        "id": "Dt0qd5VLztgC"
      },
      "execution_count": 3,
      "outputs": []
    },
    {
      "cell_type": "code",
      "source": [
        "inputs, targets = next(iter(trainloader))\n",
        "out = torchvision.utils.make_grid(inputs, padding=3)"
      ],
      "metadata": {
        "id": "9-RQYjIq_Qbr"
      },
      "execution_count": 28,
      "outputs": []
    },
    {
      "cell_type": "code",
      "source": [
        "for image,label in train_data:\n",
        "    print(image.shape)\n",
        "    break"
      ],
      "metadata": {
        "id": "gJLGsvhhztjN",
        "outputId": "4661e882-c122-4a4c-a37f-ea80031ac5b2",
        "colab": {
          "base_uri": "https://localhost:8080/"
        }
      },
      "execution_count": 4,
      "outputs": [
        {
          "output_type": "stream",
          "name": "stdout",
          "text": [
            "torch.Size([3, 280, 280])\n"
          ]
        }
      ]
    },
    {
      "cell_type": "code",
      "source": [
        "trainloader = torch.utils.data.DataLoader(dataset=train_data, batch_size=32, shuffle=True)\n",
        "testloader = torch.utils.data.DataLoader(dataset=test_data, batch_size=32,shuffle=True)"
      ],
      "metadata": {
        "id": "zwhe_IK6ztmd"
      },
      "execution_count": 5,
      "outputs": []
    },
    {
      "cell_type": "code",
      "source": [
        "iter_ = iter(trainloader)\n",
        "image,label = next(iter_)\n",
        "print(image.shape)\n",
        "print(label)"
      ],
      "metadata": {
        "id": "1DRRSrsEztoq",
        "outputId": "e4aff479-73f7-4486-e36c-219ea20b90f5",
        "colab": {
          "base_uri": "https://localhost:8080/"
        }
      },
      "execution_count": 6,
      "outputs": [
        {
          "output_type": "stream",
          "name": "stdout",
          "text": [
            "torch.Size([32, 3, 280, 280])\n",
            "tensor([1, 1, 1, 1, 1, 1, 1, 1, 1, 1, 1, 1, 1, 1, 1, 0, 1, 1, 0, 1, 1, 0, 1, 1,\n",
            "        1, 0, 0, 1, 1, 0, 1, 1])\n"
          ]
        }
      ]
    },
    {
      "cell_type": "code",
      "source": [
        "def image_convert(img):\n",
        "    img = img.clone().cpu().numpy()\n",
        "    img = img.transpose(1,2,0)\n",
        "    std = [0.5,0.5,0.5]\n",
        "    mean = [0.5,0.5,0.5]\n",
        "    img = img*std + mean\n",
        "    return img\n",
        "\n",
        "\n",
        "def plot_10():\n",
        "        iter_ = iter(trainloader)\n",
        "        images,labels = next(iter_)\n",
        "        an_ = {'1':'malignant','0':'benign'}\n",
        "        \n",
        "        plt.figure(figsize=(20,10))\n",
        "        for idx in range(10):\n",
        "            plt.subplot(2,5,idx+1)\n",
        "            img = image_convert(images[idx])\n",
        "            label = labels[idx]\n",
        "            plt.imshow(img)\n",
        "            plt.title(an_[str(label.numpy())])\n",
        "        plt.show()\n",
        "            "
      ],
      "metadata": {
        "id": "nWC6w9EN2Ytr"
      },
      "execution_count": 7,
      "outputs": []
    },
    {
      "cell_type": "code",
      "source": [
        "model =  models.resnet18(pretrained=True).to(device)\n",
        "print(model)"
      ],
      "metadata": {
        "id": "xNYdDVGL20mL",
        "outputId": "0557526a-d9cd-4ede-8ffd-d7c1ce14f4ee",
        "colab": {
          "base_uri": "https://localhost:8080/",
          "height": 1000,
          "referenced_widgets": [
            "4781e5adbb354890aaf119a9f401f455",
            "7852903ddd4041bebe56b101ab19064e",
            "6c0e27e4d5844d63827ac61947b92ac3",
            "e130075116044873b4e8236bd7321402",
            "ed938dc7afaf49ea873584491e277c6d",
            "cfb1f50902d844d4a5c3d0a07cfe4172",
            "00439e69c2994252872f0642321a6fe4",
            "84a2c5eff5fc4e56a99c8667ba1377a1",
            "1ae75c49c4f7412b801f51feb0f432a2",
            "68f4cb79db2943a2a3a2463017fa59cb",
            "d79352736b294429bc9a2913753f27a3"
          ]
        }
      },
      "execution_count": 9,
      "outputs": [
        {
          "output_type": "stream",
          "name": "stderr",
          "text": [
            "/usr/local/lib/python3.7/dist-packages/torchvision/models/_utils.py:209: UserWarning: The parameter 'pretrained' is deprecated since 0.13 and will be removed in 0.15, please use 'weights' instead.\n",
            "  f\"The parameter '{pretrained_param}' is deprecated since 0.13 and will be removed in 0.15, \"\n",
            "/usr/local/lib/python3.7/dist-packages/torchvision/models/_utils.py:223: UserWarning: Arguments other than a weight enum or `None` for 'weights' are deprecated since 0.13 and will be removed in 0.15. The current behavior is equivalent to passing `weights=ResNet18_Weights.IMAGENET1K_V1`. You can also use `weights=ResNet18_Weights.DEFAULT` to get the most up-to-date weights.\n",
            "  warnings.warn(msg)\n",
            "Downloading: \"https://download.pytorch.org/models/resnet18-f37072fd.pth\" to /root/.cache/torch/hub/checkpoints/resnet18-f37072fd.pth\n"
          ]
        },
        {
          "output_type": "display_data",
          "data": {
            "text/plain": [
              "  0%|          | 0.00/44.7M [00:00<?, ?B/s]"
            ],
            "application/vnd.jupyter.widget-view+json": {
              "version_major": 2,
              "version_minor": 0,
              "model_id": "4781e5adbb354890aaf119a9f401f455"
            }
          },
          "metadata": {}
        },
        {
          "output_type": "stream",
          "name": "stdout",
          "text": [
            "ResNet(\n",
            "  (conv1): Conv2d(3, 64, kernel_size=(7, 7), stride=(2, 2), padding=(3, 3), bias=False)\n",
            "  (bn1): BatchNorm2d(64, eps=1e-05, momentum=0.1, affine=True, track_running_stats=True)\n",
            "  (relu): ReLU(inplace=True)\n",
            "  (maxpool): MaxPool2d(kernel_size=3, stride=2, padding=1, dilation=1, ceil_mode=False)\n",
            "  (layer1): Sequential(\n",
            "    (0): BasicBlock(\n",
            "      (conv1): Conv2d(64, 64, kernel_size=(3, 3), stride=(1, 1), padding=(1, 1), bias=False)\n",
            "      (bn1): BatchNorm2d(64, eps=1e-05, momentum=0.1, affine=True, track_running_stats=True)\n",
            "      (relu): ReLU(inplace=True)\n",
            "      (conv2): Conv2d(64, 64, kernel_size=(3, 3), stride=(1, 1), padding=(1, 1), bias=False)\n",
            "      (bn2): BatchNorm2d(64, eps=1e-05, momentum=0.1, affine=True, track_running_stats=True)\n",
            "    )\n",
            "    (1): BasicBlock(\n",
            "      (conv1): Conv2d(64, 64, kernel_size=(3, 3), stride=(1, 1), padding=(1, 1), bias=False)\n",
            "      (bn1): BatchNorm2d(64, eps=1e-05, momentum=0.1, affine=True, track_running_stats=True)\n",
            "      (relu): ReLU(inplace=True)\n",
            "      (conv2): Conv2d(64, 64, kernel_size=(3, 3), stride=(1, 1), padding=(1, 1), bias=False)\n",
            "      (bn2): BatchNorm2d(64, eps=1e-05, momentum=0.1, affine=True, track_running_stats=True)\n",
            "    )\n",
            "  )\n",
            "  (layer2): Sequential(\n",
            "    (0): BasicBlock(\n",
            "      (conv1): Conv2d(64, 128, kernel_size=(3, 3), stride=(2, 2), padding=(1, 1), bias=False)\n",
            "      (bn1): BatchNorm2d(128, eps=1e-05, momentum=0.1, affine=True, track_running_stats=True)\n",
            "      (relu): ReLU(inplace=True)\n",
            "      (conv2): Conv2d(128, 128, kernel_size=(3, 3), stride=(1, 1), padding=(1, 1), bias=False)\n",
            "      (bn2): BatchNorm2d(128, eps=1e-05, momentum=0.1, affine=True, track_running_stats=True)\n",
            "      (downsample): Sequential(\n",
            "        (0): Conv2d(64, 128, kernel_size=(1, 1), stride=(2, 2), bias=False)\n",
            "        (1): BatchNorm2d(128, eps=1e-05, momentum=0.1, affine=True, track_running_stats=True)\n",
            "      )\n",
            "    )\n",
            "    (1): BasicBlock(\n",
            "      (conv1): Conv2d(128, 128, kernel_size=(3, 3), stride=(1, 1), padding=(1, 1), bias=False)\n",
            "      (bn1): BatchNorm2d(128, eps=1e-05, momentum=0.1, affine=True, track_running_stats=True)\n",
            "      (relu): ReLU(inplace=True)\n",
            "      (conv2): Conv2d(128, 128, kernel_size=(3, 3), stride=(1, 1), padding=(1, 1), bias=False)\n",
            "      (bn2): BatchNorm2d(128, eps=1e-05, momentum=0.1, affine=True, track_running_stats=True)\n",
            "    )\n",
            "  )\n",
            "  (layer3): Sequential(\n",
            "    (0): BasicBlock(\n",
            "      (conv1): Conv2d(128, 256, kernel_size=(3, 3), stride=(2, 2), padding=(1, 1), bias=False)\n",
            "      (bn1): BatchNorm2d(256, eps=1e-05, momentum=0.1, affine=True, track_running_stats=True)\n",
            "      (relu): ReLU(inplace=True)\n",
            "      (conv2): Conv2d(256, 256, kernel_size=(3, 3), stride=(1, 1), padding=(1, 1), bias=False)\n",
            "      (bn2): BatchNorm2d(256, eps=1e-05, momentum=0.1, affine=True, track_running_stats=True)\n",
            "      (downsample): Sequential(\n",
            "        (0): Conv2d(128, 256, kernel_size=(1, 1), stride=(2, 2), bias=False)\n",
            "        (1): BatchNorm2d(256, eps=1e-05, momentum=0.1, affine=True, track_running_stats=True)\n",
            "      )\n",
            "    )\n",
            "    (1): BasicBlock(\n",
            "      (conv1): Conv2d(256, 256, kernel_size=(3, 3), stride=(1, 1), padding=(1, 1), bias=False)\n",
            "      (bn1): BatchNorm2d(256, eps=1e-05, momentum=0.1, affine=True, track_running_stats=True)\n",
            "      (relu): ReLU(inplace=True)\n",
            "      (conv2): Conv2d(256, 256, kernel_size=(3, 3), stride=(1, 1), padding=(1, 1), bias=False)\n",
            "      (bn2): BatchNorm2d(256, eps=1e-05, momentum=0.1, affine=True, track_running_stats=True)\n",
            "    )\n",
            "  )\n",
            "  (layer4): Sequential(\n",
            "    (0): BasicBlock(\n",
            "      (conv1): Conv2d(256, 512, kernel_size=(3, 3), stride=(2, 2), padding=(1, 1), bias=False)\n",
            "      (bn1): BatchNorm2d(512, eps=1e-05, momentum=0.1, affine=True, track_running_stats=True)\n",
            "      (relu): ReLU(inplace=True)\n",
            "      (conv2): Conv2d(512, 512, kernel_size=(3, 3), stride=(1, 1), padding=(1, 1), bias=False)\n",
            "      (bn2): BatchNorm2d(512, eps=1e-05, momentum=0.1, affine=True, track_running_stats=True)\n",
            "      (downsample): Sequential(\n",
            "        (0): Conv2d(256, 512, kernel_size=(1, 1), stride=(2, 2), bias=False)\n",
            "        (1): BatchNorm2d(512, eps=1e-05, momentum=0.1, affine=True, track_running_stats=True)\n",
            "      )\n",
            "    )\n",
            "    (1): BasicBlock(\n",
            "      (conv1): Conv2d(512, 512, kernel_size=(3, 3), stride=(1, 1), padding=(1, 1), bias=False)\n",
            "      (bn1): BatchNorm2d(512, eps=1e-05, momentum=0.1, affine=True, track_running_stats=True)\n",
            "      (relu): ReLU(inplace=True)\n",
            "      (conv2): Conv2d(512, 512, kernel_size=(3, 3), stride=(1, 1), padding=(1, 1), bias=False)\n",
            "      (bn2): BatchNorm2d(512, eps=1e-05, momentum=0.1, affine=True, track_running_stats=True)\n",
            "    )\n",
            "  )\n",
            "  (avgpool): AdaptiveAvgPool2d(output_size=(1, 1))\n",
            "  (fc): Linear(in_features=512, out_features=1000, bias=True)\n",
            ")\n"
          ]
        }
      ]
    },
    {
      "cell_type": "code",
      "source": [
        "from torch import nn\n",
        "class Dc_model(nn.Module):\n",
        "    def __init__(self):\n",
        "        super().__init__()\n",
        "        self.linear1=nn.Linear(512,120)\n",
        "        self.linear2=nn.Linear(120,2)\n",
        "    \n",
        "    def forward(self,x):\n",
        "        x = F.relu(self.linear1(x))\n",
        "        x = self.linear2(x)\n",
        "        return x"
      ],
      "metadata": {
        "id": "Px8Y4bhM24Nn"
      },
      "execution_count": 10,
      "outputs": []
    },
    {
      "cell_type": "code",
      "source": [
        "model_ = Dc_model().to(device)\n",
        "model_"
      ],
      "metadata": {
        "id": "EgtZNuM53BTu",
        "outputId": "6f8266fe-19cc-42c6-bbf1-606f7016f8d4",
        "colab": {
          "base_uri": "https://localhost:8080/"
        }
      },
      "execution_count": 11,
      "outputs": [
        {
          "output_type": "execute_result",
          "data": {
            "text/plain": [
              "Dc_model(\n",
              "  (linear1): Linear(in_features=512, out_features=120, bias=True)\n",
              "  (linear2): Linear(in_features=120, out_features=2, bias=True)\n",
              ")"
            ]
          },
          "metadata": {},
          "execution_count": 11
        }
      ]
    },
    {
      "cell_type": "code",
      "source": [
        "\n",
        "model.fc = model_\n",
        "print(model)"
      ],
      "metadata": {
        "id": "akYhc3hL3B1S",
        "outputId": "60f81e0c-23c5-42bd-cfb9-957aae4beed1",
        "colab": {
          "base_uri": "https://localhost:8080/"
        }
      },
      "execution_count": 12,
      "outputs": [
        {
          "output_type": "stream",
          "name": "stdout",
          "text": [
            "ResNet(\n",
            "  (conv1): Conv2d(3, 64, kernel_size=(7, 7), stride=(2, 2), padding=(3, 3), bias=False)\n",
            "  (bn1): BatchNorm2d(64, eps=1e-05, momentum=0.1, affine=True, track_running_stats=True)\n",
            "  (relu): ReLU(inplace=True)\n",
            "  (maxpool): MaxPool2d(kernel_size=3, stride=2, padding=1, dilation=1, ceil_mode=False)\n",
            "  (layer1): Sequential(\n",
            "    (0): BasicBlock(\n",
            "      (conv1): Conv2d(64, 64, kernel_size=(3, 3), stride=(1, 1), padding=(1, 1), bias=False)\n",
            "      (bn1): BatchNorm2d(64, eps=1e-05, momentum=0.1, affine=True, track_running_stats=True)\n",
            "      (relu): ReLU(inplace=True)\n",
            "      (conv2): Conv2d(64, 64, kernel_size=(3, 3), stride=(1, 1), padding=(1, 1), bias=False)\n",
            "      (bn2): BatchNorm2d(64, eps=1e-05, momentum=0.1, affine=True, track_running_stats=True)\n",
            "    )\n",
            "    (1): BasicBlock(\n",
            "      (conv1): Conv2d(64, 64, kernel_size=(3, 3), stride=(1, 1), padding=(1, 1), bias=False)\n",
            "      (bn1): BatchNorm2d(64, eps=1e-05, momentum=0.1, affine=True, track_running_stats=True)\n",
            "      (relu): ReLU(inplace=True)\n",
            "      (conv2): Conv2d(64, 64, kernel_size=(3, 3), stride=(1, 1), padding=(1, 1), bias=False)\n",
            "      (bn2): BatchNorm2d(64, eps=1e-05, momentum=0.1, affine=True, track_running_stats=True)\n",
            "    )\n",
            "  )\n",
            "  (layer2): Sequential(\n",
            "    (0): BasicBlock(\n",
            "      (conv1): Conv2d(64, 128, kernel_size=(3, 3), stride=(2, 2), padding=(1, 1), bias=False)\n",
            "      (bn1): BatchNorm2d(128, eps=1e-05, momentum=0.1, affine=True, track_running_stats=True)\n",
            "      (relu): ReLU(inplace=True)\n",
            "      (conv2): Conv2d(128, 128, kernel_size=(3, 3), stride=(1, 1), padding=(1, 1), bias=False)\n",
            "      (bn2): BatchNorm2d(128, eps=1e-05, momentum=0.1, affine=True, track_running_stats=True)\n",
            "      (downsample): Sequential(\n",
            "        (0): Conv2d(64, 128, kernel_size=(1, 1), stride=(2, 2), bias=False)\n",
            "        (1): BatchNorm2d(128, eps=1e-05, momentum=0.1, affine=True, track_running_stats=True)\n",
            "      )\n",
            "    )\n",
            "    (1): BasicBlock(\n",
            "      (conv1): Conv2d(128, 128, kernel_size=(3, 3), stride=(1, 1), padding=(1, 1), bias=False)\n",
            "      (bn1): BatchNorm2d(128, eps=1e-05, momentum=0.1, affine=True, track_running_stats=True)\n",
            "      (relu): ReLU(inplace=True)\n",
            "      (conv2): Conv2d(128, 128, kernel_size=(3, 3), stride=(1, 1), padding=(1, 1), bias=False)\n",
            "      (bn2): BatchNorm2d(128, eps=1e-05, momentum=0.1, affine=True, track_running_stats=True)\n",
            "    )\n",
            "  )\n",
            "  (layer3): Sequential(\n",
            "    (0): BasicBlock(\n",
            "      (conv1): Conv2d(128, 256, kernel_size=(3, 3), stride=(2, 2), padding=(1, 1), bias=False)\n",
            "      (bn1): BatchNorm2d(256, eps=1e-05, momentum=0.1, affine=True, track_running_stats=True)\n",
            "      (relu): ReLU(inplace=True)\n",
            "      (conv2): Conv2d(256, 256, kernel_size=(3, 3), stride=(1, 1), padding=(1, 1), bias=False)\n",
            "      (bn2): BatchNorm2d(256, eps=1e-05, momentum=0.1, affine=True, track_running_stats=True)\n",
            "      (downsample): Sequential(\n",
            "        (0): Conv2d(128, 256, kernel_size=(1, 1), stride=(2, 2), bias=False)\n",
            "        (1): BatchNorm2d(256, eps=1e-05, momentum=0.1, affine=True, track_running_stats=True)\n",
            "      )\n",
            "    )\n",
            "    (1): BasicBlock(\n",
            "      (conv1): Conv2d(256, 256, kernel_size=(3, 3), stride=(1, 1), padding=(1, 1), bias=False)\n",
            "      (bn1): BatchNorm2d(256, eps=1e-05, momentum=0.1, affine=True, track_running_stats=True)\n",
            "      (relu): ReLU(inplace=True)\n",
            "      (conv2): Conv2d(256, 256, kernel_size=(3, 3), stride=(1, 1), padding=(1, 1), bias=False)\n",
            "      (bn2): BatchNorm2d(256, eps=1e-05, momentum=0.1, affine=True, track_running_stats=True)\n",
            "    )\n",
            "  )\n",
            "  (layer4): Sequential(\n",
            "    (0): BasicBlock(\n",
            "      (conv1): Conv2d(256, 512, kernel_size=(3, 3), stride=(2, 2), padding=(1, 1), bias=False)\n",
            "      (bn1): BatchNorm2d(512, eps=1e-05, momentum=0.1, affine=True, track_running_stats=True)\n",
            "      (relu): ReLU(inplace=True)\n",
            "      (conv2): Conv2d(512, 512, kernel_size=(3, 3), stride=(1, 1), padding=(1, 1), bias=False)\n",
            "      (bn2): BatchNorm2d(512, eps=1e-05, momentum=0.1, affine=True, track_running_stats=True)\n",
            "      (downsample): Sequential(\n",
            "        (0): Conv2d(256, 512, kernel_size=(1, 1), stride=(2, 2), bias=False)\n",
            "        (1): BatchNorm2d(512, eps=1e-05, momentum=0.1, affine=True, track_running_stats=True)\n",
            "      )\n",
            "    )\n",
            "    (1): BasicBlock(\n",
            "      (conv1): Conv2d(512, 512, kernel_size=(3, 3), stride=(1, 1), padding=(1, 1), bias=False)\n",
            "      (bn1): BatchNorm2d(512, eps=1e-05, momentum=0.1, affine=True, track_running_stats=True)\n",
            "      (relu): ReLU(inplace=True)\n",
            "      (conv2): Conv2d(512, 512, kernel_size=(3, 3), stride=(1, 1), padding=(1, 1), bias=False)\n",
            "      (bn2): BatchNorm2d(512, eps=1e-05, momentum=0.1, affine=True, track_running_stats=True)\n",
            "    )\n",
            "  )\n",
            "  (avgpool): AdaptiveAvgPool2d(output_size=(1, 1))\n",
            "  (fc): Dc_model(\n",
            "    (linear1): Linear(in_features=512, out_features=120, bias=True)\n",
            "    (linear2): Linear(in_features=120, out_features=2, bias=True)\n",
            "  )\n",
            ")\n"
          ]
        }
      ]
    },
    {
      "cell_type": "code",
      "source": [
        "\n",
        "for param in model.parameters():\n",
        "        param.requires_grad = False\n",
        "for param in model.fc.parameters():\n",
        "        param.requires_grad = True"
      ],
      "metadata": {
        "id": "ukX8nK5n3FC0"
      },
      "execution_count": 13,
      "outputs": []
    },
    {
      "cell_type": "code",
      "source": [
        "criterion = nn.CrossEntropyLoss()\n",
        "optimizer = optim.Adam(model.parameters(),lr=0.001)\n"
      ],
      "metadata": {
        "id": "iJcF71RY3JyG"
      },
      "execution_count": 14,
      "outputs": []
    },
    {
      "cell_type": "code",
      "source": [
        "\n",
        "\n",
        "# transfer model to GPU, if gpu is available\n",
        "device = torch.device('cuda' if torch.cuda.is_available() else 'cpu')\n",
        "\n",
        "model = model.to(device)"
      ],
      "metadata": {
        "id": "DHmRxVeJxFD2"
      },
      "execution_count": 22,
      "outputs": []
    },
    {
      "cell_type": "code",
      "source": [
        "criterion = nn.CrossEntropyLoss()\n",
        "optimizer = optim.SGD(model.parameters(), lr=0.002, momentum=0.9)\n"
      ],
      "metadata": {
        "id": "Mv3e9vM3xFHx"
      },
      "execution_count": 23,
      "outputs": []
    },
    {
      "cell_type": "code",
      "source": [
        "num_epochs = 2\n",
        "batch_size=4\n",
        "losses = []\n",
        "\n",
        "for epoch in range(num_epochs):\n",
        "    for i, (inputs, targets) in enumerate(trainloader):\n",
        "        inputs = inputs.to(device)\n",
        "        targets = targets.to(device)\n",
        "        \n",
        "        # forwad pass\n",
        "        outputs = model(inputs)\n",
        "        \n",
        "        # loss\n",
        "        loss = criterion(outputs, targets)\n",
        "        losses.append(loss.item())\n",
        "\n",
        "        # backward pass\n",
        "        optimizer.zero_grad()\n",
        "        loss.backward()\n",
        "        \n",
        "        # update parameters\n",
        "        optimizer.step()\n",
        "        \n",
        "        # report\n",
        "        if (i + 1) % 50 == 0:\n",
        "            print('Epoch [%2d/%2d], Step [%3d/%3d], Loss: %.4f'\n",
        "                  % (epoch + 1, num_epochs, i + 1, len(train_data) // batch_size, loss.item()))"
      ],
      "metadata": {
        "id": "hWqxU6RZxOjP",
        "outputId": "e47a4f40-1aba-486c-d8f8-2c69efaa3bec",
        "colab": {
          "base_uri": "https://localhost:8080/"
        }
      },
      "execution_count": 30,
      "outputs": [
        {
          "output_type": "stream",
          "name": "stdout",
          "text": [
            "Epoch [ 1/ 2], Step [ 50/598], Loss: 0.2194\n",
            "Epoch [ 2/ 2], Step [ 50/598], Loss: 0.2326\n"
          ]
        }
      ]
    },
    {
      "cell_type": "code",
      "source": [
        "data_dir = '/content/drive/My Drive/breast canser2/'\n",
        "\n",
        "train_transforms = transforms.Compose([transforms.RandomRotation(30),\n",
        "                                transforms.RandomHorizontalFlip(),\n",
        "                                transforms.Resize((280,280)),\n",
        "                                transforms.ToTensor(),\n",
        "                                transforms.Normalize([0.5, 0.5, 0.5],\n",
        "                                [0.5, 0.5, 0.5])])\n",
        "test_transforms = transforms.Compose([\n",
        "                                transforms.Resize((280,280)),\n",
        "                                transforms.ToTensor(),\n",
        "                                transforms.Normalize([0.5, 0.5, 0.5],\n",
        "                                [0.5, 0.5, 0.5])])\n",
        "\n",
        "train_data = datasets.ImageFolder(data_dir + 'train', transform=train_transforms)\n",
        "test_data = datasets.ImageFolder(data_dir + 'test2', transform=test_transforms)"
      ],
      "metadata": {
        "id": "1XNwsbbaHeSn"
      },
      "execution_count": 35,
      "outputs": []
    },
    {
      "cell_type": "code",
      "source": [
        "trainloader = torch.utils.data.DataLoader(dataset=train_data, batch_size=32, shuffle=True)\n",
        "testloader = torch.utils.data.DataLoader(dataset=test_data, batch_size=32,shuffle=True)"
      ],
      "metadata": {
        "id": "ymff0dC4E1NP"
      },
      "execution_count": 36,
      "outputs": []
    },
    {
      "cell_type": "code",
      "source": [
        "import tqdm"
      ],
      "metadata": {
        "id": "lo2wUcZuFzeR"
      },
      "execution_count": 19,
      "outputs": []
    },
    {
      "cell_type": "code",
      "source": [
        "def predict_class(model, dataloader, device):\n",
        "    \"\"\" Predict probabilities for the given model and dataset\n",
        "    \"\"\"\n",
        "    model.eval()\n",
        "    result = []\n",
        "    y = []\n",
        "    \n",
        "    with torch.no_grad():\n",
        "        for inputs, targets in tqdm(dataloader):\n",
        "            inputs = inputs.to(device)\n",
        "            scores = model(inputs)\n",
        "            _, preds = torch.max(scores, 1)\n",
        "            result += [preds.cpu().numpy()]\n",
        "            y += [targets.cpu().numpy()]\n",
        "        \n",
        "    result = np.concatenate(result)\n",
        "    y = np.concatenate(y)\n",
        "    return result, y\n",
        "    "
      ],
      "metadata": {
        "id": "Qq50mU0qFuqK"
      },
      "execution_count": 32,
      "outputs": []
    },
    {
      "cell_type": "code",
      "source": [
        "import re\n",
        "import os\n",
        "import glob\n",
        "import numpy as np\n",
        "from tqdm import tqdm\n",
        "\n",
        "import torch\n",
        "import torch.nn.functional as F\n",
        "import torchvision.models as models\n",
        "\n",
        "#from model_utils import *\n",
        "\n",
        "\n",
        "def predict_proba(model, dataloader, device=None):\n",
        "    \"\"\" Predict probabilty of classes.\n",
        "    \n",
        "        Inputs:\n",
        "            - model: a pytorch model (eg., a neural network).\n",
        "            - dataloader: a pytorch dataloder to load data and provide batches to the model.\n",
        "            - report_every: how often this function should print out statistics.\n",
        "            \n",
        "        Output:\n",
        "            - predictions: a numpy array containing predicted probabilities for all of the data.\n",
        "    \n",
        "    \"\"\"\n",
        "    model.eval()\n",
        "    predictions = []\n",
        "    y_true = []\n",
        "\n",
        "    with torch.no_grad():\n",
        "        for inputs, targets in tqdm(dataloader):\n",
        "            inputs = inputs.to(device)\n",
        "            outputs = model(inputs)\n",
        "            scores = F.softmax(outputs, dim=1)\n",
        "            predictions += [scores.cpu().numpy()]\n",
        "            y_true += [targets.cpu().numpy()]\n",
        "\n",
        "    predictions = np.concatenate(predictions)\n",
        "    y_true = np.concatenate(y_true)\n",
        "    return predictions, y_true\n",
        "\n",
        "\n",
        "def TTA(model, dl, tta_dl, device=None, is_test=False, n=5):\n",
        "    probs = predict_proba(model, dl, device)\n",
        "    probs = np.stack([probs] + [predict_proba(model, tta_dl) for i in range(n)]).mean(axis=0)\n",
        "    y_true = np.concatenate([labels.cpu().numpy() for _, labels in tta_dl]) if not is_test else None\n",
        "    return probs, y_true\n",
        "\n",
        "\n",
        "def predict_proba_five_ten_crop(model, dataloader, device):\n",
        "    \"\"\" Predict probabilty of classes.\n",
        "    \n",
        "        Inputs:\n",
        "            - model: a pytorch model (eg., a neural network).\n",
        "            - dataloader: a pytorch dataloder to load data and provide batches to the model.\n",
        "            - report_every: how often this function should print out statistics.\n",
        "            \n",
        "        Output:\n",
        "            - predictions: a numpy array containing predicted probabilities for all of the data.\n",
        "    \n",
        "    \"\"\"\n",
        "    model.eval()\n",
        "    predictions = []\n",
        "\n",
        "    with torch.no_grad():\n",
        "        for inputs, _ in tqdm(dataloader):\n",
        "            inputs = inputs.to(device)\n",
        "            bs, ncrops, c, h, w = inputs.size()\n",
        "            outputs = model(inputs.view(-1, c, h, w))\n",
        "            outputs = outputs.view(bs, ncrops, -1).mean(1)\n",
        "            scores = F.softmax(outputs, dim=1)\n",
        "            predictions += [scores.cpu().numpy()]\n",
        "    \n",
        "    predictions = np.concatenate(predictions)\n",
        "    return predictions\n",
        "\n",
        "\n",
        "def predict_class(model, dataloader, device):\n",
        "    \"\"\" Predict probabilities for the given model and dataset\n",
        "    \"\"\"\n",
        "    model.eval()\n",
        "    result = []\n",
        "    y = []\n",
        "    \n",
        "    with torch.no_grad():\n",
        "        for inputs, targets in tqdm(dataloader):\n",
        "            inputs = inputs.to(device)\n",
        "            scores = model(inputs)\n",
        "            _, preds = torch.max(scores, 1)\n",
        "            result += [preds.cpu().numpy()]\n",
        "            y += [targets.cpu().numpy()]\n",
        "        \n",
        "    result = np.concatenate(result)\n",
        "    y = np.concatenate(y)\n",
        "    return result, y\n",
        "\n",
        "\n",
        "def predict_class_names(model, dataloader, class_names, device):\n",
        "    \"\"\" Predict probabilities for the given model and dataset\n",
        "    \n",
        "        Inputs:\n",
        "            - model: a pytorch model\n",
        "            - dataloader a torch.utils.data.DataLoader object\n",
        "            - class_names: a list of class names\n",
        "            \n",
        "        Output:\n",
        "            - result: Predicted class name for each input as a python list\n",
        "    \"\"\"\n",
        "    model.eval()\n",
        "    result = []\n",
        "    y = []\n",
        "    \n",
        "    with torch.no_grad():\n",
        "        for inputs, labels in tqdm(dataloader):\n",
        "            inputs = inputs.to(device)\n",
        "            scores = model(inputs)\n",
        "            _, preds = torch.max(scores, 1)\n",
        "            result += [preds.cpu().numpy()]\n",
        "            y += [labels.cpu().numpy()]\n",
        "    \n",
        "    result = np.concatenate(result)\n",
        "    y = np.concatenate(y)\n",
        "    \n",
        "    pred_class_names = [class_names[i] for i in result]\n",
        "    return pred_class_names, y\n",
        "\n",
        "\n",
        "def predict_probs_for_models_from_folder(dataloader, models_dir=\"./models\", num_classes=10, device=None):\n",
        "    model_fnames = glob.glob(models_dir + '/*.pth') + glob.glob(models_dir + '/*.h5')\n",
        "    for i in range(1):\n",
        "        for model_fname in model_fnames:\n",
        "            basename = os.path.basename(model_fname)[:-3]\n",
        "            first_dash_idx = basename.find('-')\n",
        "            second_dash_idx = basename.find('-', first_dash_idx + 1)\n",
        "            model_name = basename[first_dash_idx + 1: second_dash_idx].lower()\n",
        "            \n",
        "            print('Predicting ouputs for %s...' % model_name)\n",
        "            \n",
        "            if model_name == 'resnet18':\n",
        "                model = load_pretrained_resnet18(model_fname, num_classes)\n",
        "            elif model_name == 'resnet34':\n",
        "                model = load_pretrained_resnet34(model_fname, num_classes)\n",
        "            elif model_name == 'resnet50':\n",
        "                model = load_pretrained_resnet50(model_fname, num_classes)\n",
        "            elif model_name == 'densenet121':\n",
        "                model = load_pretrained_densenet121(model_fname, num_classes)\n",
        "            elif model_name == 'densenet161':\n",
        "                model = load_pretrained_densenet161(model_fname, num_classes)\n",
        "            elif model_name == 'densenet169':\n",
        "                model = load_pretrained_densenet169(model_fname, num_classes)\n",
        "            elif model_name == 'densenet201':\n",
        "                model = load_pretrained_densenet201(model_fname, num_classes)\n",
        "            else:\n",
        "                raise NameError('Inavalid model name: {}'.format(model_name))\n",
        "            \n",
        "            # predic and save probabilities for this model in the models_dir\n",
        "            model = model.to(device)\n",
        "            probs = predict_proba_five_ten_crop(model, dataloader, device)\n",
        "            probs_fname = os.path.join(models_dir, \"{}-{}.npy\".format(basename, i))\n",
        "            np.save(probs_fname, probs)"
      ],
      "metadata": {
        "id": "SPtO-ZFd5ToB"
      },
      "execution_count": 38,
      "outputs": []
    },
    {
      "cell_type": "code",
      "source": [
        "y_pred, y_true = predict_class(model, trainloader , device)\n",
        "from sklearn import metrics"
      ],
      "metadata": {
        "id": "VT7VjMDQE8r4",
        "colab": {
          "base_uri": "https://localhost:8080/"
        },
        "outputId": "a2dbe827-6f6d-4bd1-eb98-dce855fa5eef"
      },
      "execution_count": 39,
      "outputs": [
        {
          "output_type": "stream",
          "name": "stderr",
          "text": [
            "100%|██████████| 75/75 [00:25<00:00,  2.90it/s]\n"
          ]
        }
      ]
    },
    {
      "cell_type": "markdown",
      "source": [
        "### *accuracy*1"
      ],
      "metadata": {
        "id": "t5q1mrcSbRBu"
      }
    },
    {
      "cell_type": "code",
      "source": [
        "print('accuracy 1d---->2d:',metrics.accuracy_score(y_true,y_pred))"
      ],
      "metadata": {
        "id": "od4Xyq3iF638",
        "colab": {
          "base_uri": "https://localhost:8080/"
        },
        "outputId": "12c3355b-9343-4dd7-e7e0-6d134f42f8a4"
      },
      "execution_count": 40,
      "outputs": [
        {
          "output_type": "stream",
          "name": "stdout",
          "text": [
            "0.9060150375939849\n"
          ]
        }
      ]
    },
    {
      "cell_type": "code",
      "source": [],
      "metadata": {
        "id": "bHB-IuufGoNM"
      },
      "execution_count": null,
      "outputs": []
    }
  ],
  "metadata": {
    "colab": {
      "provenance": []
    },
    "kernelspec": {
      "display_name": "Python 3",
      "name": "python3"
    },
    "accelerator": "GPU",
    "gpuClass": "standard",
    "widgets": {
      "application/vnd.jupyter.widget-state+json": {
        "4781e5adbb354890aaf119a9f401f455": {
          "model_module": "@jupyter-widgets/controls",
          "model_name": "HBoxModel",
          "model_module_version": "1.5.0",
          "state": {
            "_dom_classes": [],
            "_model_module": "@jupyter-widgets/controls",
            "_model_module_version": "1.5.0",
            "_model_name": "HBoxModel",
            "_view_count": null,
            "_view_module": "@jupyter-widgets/controls",
            "_view_module_version": "1.5.0",
            "_view_name": "HBoxView",
            "box_style": "",
            "children": [
              "IPY_MODEL_7852903ddd4041bebe56b101ab19064e",
              "IPY_MODEL_6c0e27e4d5844d63827ac61947b92ac3",
              "IPY_MODEL_e130075116044873b4e8236bd7321402"
            ],
            "layout": "IPY_MODEL_ed938dc7afaf49ea873584491e277c6d"
          }
        },
        "7852903ddd4041bebe56b101ab19064e": {
          "model_module": "@jupyter-widgets/controls",
          "model_name": "HTMLModel",
          "model_module_version": "1.5.0",
          "state": {
            "_dom_classes": [],
            "_model_module": "@jupyter-widgets/controls",
            "_model_module_version": "1.5.0",
            "_model_name": "HTMLModel",
            "_view_count": null,
            "_view_module": "@jupyter-widgets/controls",
            "_view_module_version": "1.5.0",
            "_view_name": "HTMLView",
            "description": "",
            "description_tooltip": null,
            "layout": "IPY_MODEL_cfb1f50902d844d4a5c3d0a07cfe4172",
            "placeholder": "​",
            "style": "IPY_MODEL_00439e69c2994252872f0642321a6fe4",
            "value": "100%"
          }
        },
        "6c0e27e4d5844d63827ac61947b92ac3": {
          "model_module": "@jupyter-widgets/controls",
          "model_name": "FloatProgressModel",
          "model_module_version": "1.5.0",
          "state": {
            "_dom_classes": [],
            "_model_module": "@jupyter-widgets/controls",
            "_model_module_version": "1.5.0",
            "_model_name": "FloatProgressModel",
            "_view_count": null,
            "_view_module": "@jupyter-widgets/controls",
            "_view_module_version": "1.5.0",
            "_view_name": "ProgressView",
            "bar_style": "success",
            "description": "",
            "description_tooltip": null,
            "layout": "IPY_MODEL_84a2c5eff5fc4e56a99c8667ba1377a1",
            "max": 46830571,
            "min": 0,
            "orientation": "horizontal",
            "style": "IPY_MODEL_1ae75c49c4f7412b801f51feb0f432a2",
            "value": 46830571
          }
        },
        "e130075116044873b4e8236bd7321402": {
          "model_module": "@jupyter-widgets/controls",
          "model_name": "HTMLModel",
          "model_module_version": "1.5.0",
          "state": {
            "_dom_classes": [],
            "_model_module": "@jupyter-widgets/controls",
            "_model_module_version": "1.5.0",
            "_model_name": "HTMLModel",
            "_view_count": null,
            "_view_module": "@jupyter-widgets/controls",
            "_view_module_version": "1.5.0",
            "_view_name": "HTMLView",
            "description": "",
            "description_tooltip": null,
            "layout": "IPY_MODEL_68f4cb79db2943a2a3a2463017fa59cb",
            "placeholder": "​",
            "style": "IPY_MODEL_d79352736b294429bc9a2913753f27a3",
            "value": " 44.7M/44.7M [00:00&lt;00:00, 83.4MB/s]"
          }
        },
        "ed938dc7afaf49ea873584491e277c6d": {
          "model_module": "@jupyter-widgets/base",
          "model_name": "LayoutModel",
          "model_module_version": "1.2.0",
          "state": {
            "_model_module": "@jupyter-widgets/base",
            "_model_module_version": "1.2.0",
            "_model_name": "LayoutModel",
            "_view_count": null,
            "_view_module": "@jupyter-widgets/base",
            "_view_module_version": "1.2.0",
            "_view_name": "LayoutView",
            "align_content": null,
            "align_items": null,
            "align_self": null,
            "border": null,
            "bottom": null,
            "display": null,
            "flex": null,
            "flex_flow": null,
            "grid_area": null,
            "grid_auto_columns": null,
            "grid_auto_flow": null,
            "grid_auto_rows": null,
            "grid_column": null,
            "grid_gap": null,
            "grid_row": null,
            "grid_template_areas": null,
            "grid_template_columns": null,
            "grid_template_rows": null,
            "height": null,
            "justify_content": null,
            "justify_items": null,
            "left": null,
            "margin": null,
            "max_height": null,
            "max_width": null,
            "min_height": null,
            "min_width": null,
            "object_fit": null,
            "object_position": null,
            "order": null,
            "overflow": null,
            "overflow_x": null,
            "overflow_y": null,
            "padding": null,
            "right": null,
            "top": null,
            "visibility": null,
            "width": null
          }
        },
        "cfb1f50902d844d4a5c3d0a07cfe4172": {
          "model_module": "@jupyter-widgets/base",
          "model_name": "LayoutModel",
          "model_module_version": "1.2.0",
          "state": {
            "_model_module": "@jupyter-widgets/base",
            "_model_module_version": "1.2.0",
            "_model_name": "LayoutModel",
            "_view_count": null,
            "_view_module": "@jupyter-widgets/base",
            "_view_module_version": "1.2.0",
            "_view_name": "LayoutView",
            "align_content": null,
            "align_items": null,
            "align_self": null,
            "border": null,
            "bottom": null,
            "display": null,
            "flex": null,
            "flex_flow": null,
            "grid_area": null,
            "grid_auto_columns": null,
            "grid_auto_flow": null,
            "grid_auto_rows": null,
            "grid_column": null,
            "grid_gap": null,
            "grid_row": null,
            "grid_template_areas": null,
            "grid_template_columns": null,
            "grid_template_rows": null,
            "height": null,
            "justify_content": null,
            "justify_items": null,
            "left": null,
            "margin": null,
            "max_height": null,
            "max_width": null,
            "min_height": null,
            "min_width": null,
            "object_fit": null,
            "object_position": null,
            "order": null,
            "overflow": null,
            "overflow_x": null,
            "overflow_y": null,
            "padding": null,
            "right": null,
            "top": null,
            "visibility": null,
            "width": null
          }
        },
        "00439e69c2994252872f0642321a6fe4": {
          "model_module": "@jupyter-widgets/controls",
          "model_name": "DescriptionStyleModel",
          "model_module_version": "1.5.0",
          "state": {
            "_model_module": "@jupyter-widgets/controls",
            "_model_module_version": "1.5.0",
            "_model_name": "DescriptionStyleModel",
            "_view_count": null,
            "_view_module": "@jupyter-widgets/base",
            "_view_module_version": "1.2.0",
            "_view_name": "StyleView",
            "description_width": ""
          }
        },
        "84a2c5eff5fc4e56a99c8667ba1377a1": {
          "model_module": "@jupyter-widgets/base",
          "model_name": "LayoutModel",
          "model_module_version": "1.2.0",
          "state": {
            "_model_module": "@jupyter-widgets/base",
            "_model_module_version": "1.2.0",
            "_model_name": "LayoutModel",
            "_view_count": null,
            "_view_module": "@jupyter-widgets/base",
            "_view_module_version": "1.2.0",
            "_view_name": "LayoutView",
            "align_content": null,
            "align_items": null,
            "align_self": null,
            "border": null,
            "bottom": null,
            "display": null,
            "flex": null,
            "flex_flow": null,
            "grid_area": null,
            "grid_auto_columns": null,
            "grid_auto_flow": null,
            "grid_auto_rows": null,
            "grid_column": null,
            "grid_gap": null,
            "grid_row": null,
            "grid_template_areas": null,
            "grid_template_columns": null,
            "grid_template_rows": null,
            "height": null,
            "justify_content": null,
            "justify_items": null,
            "left": null,
            "margin": null,
            "max_height": null,
            "max_width": null,
            "min_height": null,
            "min_width": null,
            "object_fit": null,
            "object_position": null,
            "order": null,
            "overflow": null,
            "overflow_x": null,
            "overflow_y": null,
            "padding": null,
            "right": null,
            "top": null,
            "visibility": null,
            "width": null
          }
        },
        "1ae75c49c4f7412b801f51feb0f432a2": {
          "model_module": "@jupyter-widgets/controls",
          "model_name": "ProgressStyleModel",
          "model_module_version": "1.5.0",
          "state": {
            "_model_module": "@jupyter-widgets/controls",
            "_model_module_version": "1.5.0",
            "_model_name": "ProgressStyleModel",
            "_view_count": null,
            "_view_module": "@jupyter-widgets/base",
            "_view_module_version": "1.2.0",
            "_view_name": "StyleView",
            "bar_color": null,
            "description_width": ""
          }
        },
        "68f4cb79db2943a2a3a2463017fa59cb": {
          "model_module": "@jupyter-widgets/base",
          "model_name": "LayoutModel",
          "model_module_version": "1.2.0",
          "state": {
            "_model_module": "@jupyter-widgets/base",
            "_model_module_version": "1.2.0",
            "_model_name": "LayoutModel",
            "_view_count": null,
            "_view_module": "@jupyter-widgets/base",
            "_view_module_version": "1.2.0",
            "_view_name": "LayoutView",
            "align_content": null,
            "align_items": null,
            "align_self": null,
            "border": null,
            "bottom": null,
            "display": null,
            "flex": null,
            "flex_flow": null,
            "grid_area": null,
            "grid_auto_columns": null,
            "grid_auto_flow": null,
            "grid_auto_rows": null,
            "grid_column": null,
            "grid_gap": null,
            "grid_row": null,
            "grid_template_areas": null,
            "grid_template_columns": null,
            "grid_template_rows": null,
            "height": null,
            "justify_content": null,
            "justify_items": null,
            "left": null,
            "margin": null,
            "max_height": null,
            "max_width": null,
            "min_height": null,
            "min_width": null,
            "object_fit": null,
            "object_position": null,
            "order": null,
            "overflow": null,
            "overflow_x": null,
            "overflow_y": null,
            "padding": null,
            "right": null,
            "top": null,
            "visibility": null,
            "width": null
          }
        },
        "d79352736b294429bc9a2913753f27a3": {
          "model_module": "@jupyter-widgets/controls",
          "model_name": "DescriptionStyleModel",
          "model_module_version": "1.5.0",
          "state": {
            "_model_module": "@jupyter-widgets/controls",
            "_model_module_version": "1.5.0",
            "_model_name": "DescriptionStyleModel",
            "_view_count": null,
            "_view_module": "@jupyter-widgets/base",
            "_view_module_version": "1.2.0",
            "_view_name": "StyleView",
            "description_width": ""
          }
        }
      }
    }
  },
  "nbformat": 4,
  "nbformat_minor": 0
}